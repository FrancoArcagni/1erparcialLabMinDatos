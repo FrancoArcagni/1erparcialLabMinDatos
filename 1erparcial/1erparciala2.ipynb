{
 "cells": [
  {
   "cell_type": "code",
   "execution_count": 1,
   "id": "c9e4fbda",
   "metadata": {},
   "outputs": [],
   "source": [
    "import pandas as pd\n",
    "from pycaret.classification import *"
   ]
  },
  {
   "cell_type": "code",
   "execution_count": 14,
   "id": "b20e741e",
   "metadata": {},
   "outputs": [
    {
     "name": "stdout",
     "output_type": "stream",
     "text": [
      "Transformation Pipeline and Model Successfully Loaded\n"
     ]
    }
   ],
   "source": [
    "model = load_model(\"C:/Users/franc/OneDrive/Documentos/ISTEA/1er cuatrimestre 2025 - 4to de carrera/Laboratorio de mineria de datos/1erparcial/model\")"
   ]
  },
  {
   "cell_type": "code",
   "execution_count": 6,
   "id": "cac64581",
   "metadata": {},
   "outputs": [],
   "source": [
    "df_test = pd.read_csv(\"C:/Users/franc/OneDrive/Documentos/ISTEA/1er cuatrimestre 2025 - 4to de carrera/Laboratorio de mineria de datos/1erparcial/test.csv\")"
   ]
  },
  {
   "cell_type": "code",
   "execution_count": 12,
   "id": "059f6adf",
   "metadata": {},
   "outputs": [
    {
     "name": "stdout",
     "output_type": "stream",
     "text": [
      "Index(['feature_1', 'feature_2', 'feature_3', 'feature_4'], dtype='object')\n"
     ]
    }
   ],
   "source": [
    "print(df_test.columns)"
   ]
  },
  {
   "cell_type": "code",
   "execution_count": 15,
   "id": "f3f5d93f",
   "metadata": {},
   "outputs": [
    {
     "name": "stdout",
     "output_type": "stream",
     "text": [
      "['A' 'B' 'C' 'C' 'B' 'B' 'C' 'B' 'C' 'B' 'B' 'C' 'C' 'A' 'C' 'C' 'C' 'C'\n",
      " 'C' 'B' 'C' 'B' 'C' 'A' 'C' 'C' 'B' 'A' 'B' 'C' 'C' 'C' 'B' 'B' 'B' 'C'\n",
      " 'A' 'A' 'C' 'B' 'B' 'B' 'B' 'B' 'B' 'B' 'B' 'B' 'B' 'C' 'C' 'B' 'A' 'B'\n",
      " 'C' 'B' 'B' 'C' 'B' 'B']\n"
     ]
    }
   ],
   "source": [
    "predictions = model.predict(df_test)\n",
    "print(predictions)"
   ]
  },
  {
   "cell_type": "markdown",
   "id": "8ea35c7c",
   "metadata": {},
   "source": [
    "A partir de ahora voy a hacer la prediccion para el segundo modelo"
   ]
  },
  {
   "cell_type": "code",
   "execution_count": 3,
   "id": "c0028a70",
   "metadata": {},
   "outputs": [
    {
     "name": "stdout",
     "output_type": "stream",
     "text": [
      "Transformation Pipeline and Model Successfully Loaded\n"
     ]
    }
   ],
   "source": [
    "model2 = load_model(\"C:/Users/franc/OneDrive/Documentos/ISTEA/1er cuatrimestre 2025 - 4to de carrera/Laboratorio de mineria de datos/1erparcial/model2\")"
   ]
  },
  {
   "cell_type": "code",
   "execution_count": 9,
   "id": "d29d2f76",
   "metadata": {},
   "outputs": [
    {
     "name": "stdout",
     "output_type": "stream",
     "text": [
      "['A' 'B' 'C' 'C' 'B' 'B' 'C' 'B' 'C' 'B' 'B' 'C' 'C' 'B' 'C' 'B' 'C' 'C'\n",
      " 'C' 'B' 'C' 'B' 'C' 'A' 'C' 'C' 'B' 'A' 'B' 'C' 'C' 'B' 'B' 'B' 'B' 'C'\n",
      " 'A' 'C' 'C' 'B' 'B' 'B' 'B' 'B' 'B' 'B' 'B' 'B' 'A' 'C' 'C' 'B' 'A' 'B'\n",
      " 'C' 'B' 'B' 'C' 'B' 'B']\n"
     ]
    }
   ],
   "source": [
    "df_test = df_test.drop(\"label\", axis=1)\n",
    "predictions2 = model2.predict(df_test)\n",
    "print(predictions2)"
   ]
  },
  {
   "cell_type": "code",
   "execution_count": null,
   "id": "8198ba24",
   "metadata": {},
   "outputs": [
    {
     "name": "stdout",
     "output_type": "stream",
     "text": [
      "   Predicción 1 Predicción 2\n",
      "0             A            A\n",
      "1             B            B\n",
      "2             C            C\n",
      "3             C            C\n",
      "4             B            B\n",
      "5             B            B\n",
      "6             C            C\n",
      "7             B            B\n",
      "8             C            C\n",
      "9             B            B\n",
      "10            B            B\n",
      "11            C            C\n",
      "12            C            C\n",
      "13            A            B\n",
      "14            C            C\n",
      "15            C            B\n",
      "16            C            C\n",
      "17            C            C\n",
      "18            C            C\n",
      "19            B            B\n",
      "20            C            C\n",
      "21            B            B\n",
      "22            C            C\n",
      "23            A            A\n",
      "24            C            C\n",
      "25            C            C\n",
      "26            B            B\n",
      "27            A            A\n",
      "28            B            B\n",
      "29            C            C\n",
      "30            C            C\n",
      "31            C            B\n",
      "32            B            B\n",
      "33            B            B\n",
      "34            B            B\n",
      "35            C            C\n",
      "36            A            A\n",
      "37            A            C\n",
      "38            C            C\n",
      "39            B            B\n",
      "40            B            B\n",
      "41            B            B\n",
      "42            B            B\n",
      "43            B            B\n",
      "44            B            B\n",
      "45            B            B\n",
      "46            B            B\n",
      "47            B            B\n",
      "48            B            A\n",
      "49            C            C\n",
      "50            C            C\n",
      "51            B            B\n",
      "52            A            A\n",
      "53            B            B\n",
      "54            C            C\n",
      "55            B            B\n",
      "56            B            B\n",
      "57            C            C\n",
      "58            B            B\n",
      "59            B            B\n"
     ]
    }
   ],
   "source": [
    "df_predicciones = pd.DataFrame({\"Predicción 1\": predictions,\"Predicción 2\": predictions2})\n",
    "print(df_predicciones)"
   ]
  }
 ],
 "metadata": {
  "kernelspec": {
   "display_name": "base",
   "language": "python",
   "name": "python3"
  },
  "language_info": {
   "codemirror_mode": {
    "name": "ipython",
    "version": 3
   },
   "file_extension": ".py",
   "mimetype": "text/x-python",
   "name": "python",
   "nbconvert_exporter": "python",
   "pygments_lexer": "ipython3",
   "version": "3.11.7"
  }
 },
 "nbformat": 4,
 "nbformat_minor": 5
}
