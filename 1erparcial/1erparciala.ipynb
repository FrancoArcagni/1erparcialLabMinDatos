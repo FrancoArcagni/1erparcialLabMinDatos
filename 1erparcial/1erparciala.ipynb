{
 "cells": [
  {
   "cell_type": "code",
   "execution_count": 3,
   "id": "60188cd7",
   "metadata": {},
   "outputs": [],
   "source": [
    "import mlflow\n",
    "import pandas as pd\n",
    "import numpy as np\n",
    "from sklearn.tree import DecisionTreeClassifier\n",
    "from sklearn.model_selection import train_test_split\n",
    "from sklearn.metrics import accuracy_score, f1_score\n",
    "import mlflow.sklearn\n",
    "from urllib.parse import urlparse"
   ]
  },
  {
   "cell_type": "code",
   "execution_count": 4,
   "id": "40ab701c",
   "metadata": {},
   "outputs": [],
   "source": [
    "df = pd.read_csv('C:/Users/franc/OneDrive/Documentos/ISTEA/1er cuatrimestre 2025 - 4to de carrera/Laboratorio de mineria de datos/1erparcial/train.csv')"
   ]
  },
  {
   "cell_type": "code",
   "execution_count": 5,
   "id": "87dd2782",
   "metadata": {},
   "outputs": [
    {
     "name": "stdout",
     "output_type": "stream",
     "text": [
      "Cantidad total de valores faltantes: 0\n"
     ]
    }
   ],
   "source": [
    "total_faltantes = df.isna().sum().sum()\n",
    "print(\"Cantidad total de valores faltantes:\", total_faltantes)"
   ]
  },
  {
   "cell_type": "code",
   "execution_count": null,
   "id": "526ce77e",
   "metadata": {},
   "outputs": [
    {
     "name": "stdout",
     "output_type": "stream",
     "text": [
      "Proporción de la clase A: 0.33\n"
     ]
    }
   ],
   "source": [
    "proporcion_A = (df[\"label\"] == \"A\").mean()\n",
    "resultado = (round(proporcion_A, 2))\n",
    "print(\"Proporcion de la clase A:\", resultado)"
   ]
  },
  {
   "cell_type": "code",
   "execution_count": 7,
   "id": "bc78a657",
   "metadata": {},
   "outputs": [
    {
     "name": "stdout",
     "output_type": "stream",
     "text": [
      "     feature_1  feature_2  feature_3  feature_4 label\n",
      "0     1.041272  -0.897334   0.744985   0.920314     C\n",
      "1    -1.012247  -0.741571  -1.424422  -0.818969     A\n",
      "2     2.783979  -1.352007  -0.546231   1.903337     C\n",
      "3    -1.817238  -1.433484   0.316078   0.079265     A\n",
      "4     3.103991  -0.715809  -1.612968   1.791170     C\n",
      "..         ...        ...        ...        ...   ...\n",
      "295  -1.580501  -2.499941   0.075922   0.064212     B\n",
      "296  -1.299354  -0.470641  -2.356597  -0.862707     A\n",
      "297   1.088015  -0.407751   1.223643  -1.212280     C\n",
      "298   1.210784  -1.186221  -1.973701   1.253640     C\n",
      "299  -1.042827  -0.994664  -0.537058  -2.428352     A\n",
      "\n",
      "[300 rows x 5 columns]\n"
     ]
    }
   ],
   "source": [
    "print(df)"
   ]
  },
  {
   "cell_type": "code",
   "execution_count": 8,
   "id": "2f7a823b",
   "metadata": {},
   "outputs": [],
   "source": [
    "def eval_metrics(actual, pred):\n",
    "    acc = accuracy_score(actual, pred)\n",
    "    f1 = f1_score(actual, pred, average = 'weighted')\n",
    "    return acc, f1"
   ]
  },
  {
   "cell_type": "code",
   "execution_count": 9,
   "id": "e435e384",
   "metadata": {},
   "outputs": [],
   "source": [
    "train, test = train_test_split(df, test_size=0.25)"
   ]
  },
  {
   "cell_type": "code",
   "execution_count": 10,
   "id": "23f88735",
   "metadata": {},
   "outputs": [],
   "source": [
    "x_train = train.drop(\"label\", axis = 1)\n",
    "y_train = train[\"label\"]"
   ]
  },
  {
   "cell_type": "code",
   "execution_count": 11,
   "id": "04cc0891",
   "metadata": {},
   "outputs": [],
   "source": [
    "x_test = test.drop(\"label\", axis = 1)\n",
    "y_test = test[\"label\"]"
   ]
  },
  {
   "cell_type": "code",
   "execution_count": 12,
   "id": "d5f6ff45",
   "metadata": {},
   "outputs": [],
   "source": [
    "max_depth = 3\n",
    "min_samples_split = 4\n",
    "random_state = 42"
   ]
  },
  {
   "cell_type": "code",
   "execution_count": 13,
   "id": "8129457e",
   "metadata": {},
   "outputs": [
    {
     "name": "stdout",
     "output_type": "stream",
     "text": [
      "Decision Tree Classifier (max_depth = 3.000000, min_samples_split = 4.000000):\n",
      "acc: 0.8133333333333334\n",
      "f1: 0.8166770436988354\n"
     ]
    },
    {
     "name": "stderr",
     "output_type": "stream",
     "text": [
      "2025/05/06 20:12:43 WARNING mlflow.models.model: Model logged without a signature and input example. Please set `input_example` parameter when logging the model to auto infer the model signature.\n"
     ]
    }
   ],
   "source": [
    "with mlflow.start_run():\n",
    "    dtc = DecisionTreeClassifier(max_depth = max_depth, min_samples_split = min_samples_split, random_state = random_state)\n",
    "    dtc.fit(x_train, y_train) #Entrenamos el modelo con los datos de entrenamiento\n",
    "    predicted_label = dtc.predict(x_test) #Predecimos el label con los datos de test\n",
    "    (acc, f1) = eval_metrics(y_test, predicted_label) #Evaluamos el modelo con las metricas\n",
    "    \n",
    "    #Ahora registramos esta informacion \n",
    "    mlflow.log_param(\"max_depth\", max_depth) #Registramos el hiperparametro max_depth\n",
    "    mlflow.log_param(\"min_samples_split\", min_samples_split) #Registramos el hiperparametro min_samples_split\n",
    "    mlflow.log_metric(\"acc\", acc) #Registramos la metrica de accuracy\n",
    "    mlflow.log_metric(\"f1\", f1) #Registramos la metrica f1\n",
    "    \n",
    "    print(\"Decision Tree Classifier (max_depth = %f, min_samples_split = %f):\" % (max_depth, min_samples_split))\n",
    "    print(\"acc:\", acc)\n",
    "    print(\"f1:\", f1)\n",
    "    \n",
    "    tracking_url = urlparse(mlflow.get_tracking_uri()).scheme\n",
    "    \n",
    "    if tracking_url != \"file\":\n",
    "        mlflow.sklearn.log_model(dtc, \"model\", registered_model_name = \"model_1.pkl\")\n",
    "    else:\n",
    "        mlflow.sklearn.log_model(dtc, \"model\")"
   ]
  },
  {
   "cell_type": "markdown",
   "id": "0b0ffc19",
   "metadata": {},
   "source": [
    "A partir de ahora voy a hacer el experimento con los otros hiperparametros solicitados"
   ]
  },
  {
   "cell_type": "code",
   "execution_count": 14,
   "id": "735aca9f",
   "metadata": {},
   "outputs": [],
   "source": [
    "max_depth2 = 5\n",
    "min_samples_split2 = 2\n",
    "random_state2 = 42"
   ]
  },
  {
   "cell_type": "code",
   "execution_count": 19,
   "id": "2ab6f7f1",
   "metadata": {},
   "outputs": [
    {
     "name": "stdout",
     "output_type": "stream",
     "text": [
      "Decision Tree Classifier (max_depth = 5.000000, min_samples_split = 2.000000):\n",
      "acc2: 0.8666666666666667\n",
      "f12: 0.8662309368191721\n"
     ]
    },
    {
     "name": "stderr",
     "output_type": "stream",
     "text": [
      "2025/05/06 20:23:23 WARNING mlflow.models.model: Model logged without a signature and input example. Please set `input_example` parameter when logging the model to auto infer the model signature.\n"
     ]
    }
   ],
   "source": [
    "with mlflow.start_run():\n",
    "    dtc2 = DecisionTreeClassifier(max_depth = max_depth2, min_samples_split = min_samples_split2, random_state = random_state2)\n",
    "    dtc2.fit(x_train, y_train) #Entrenamos el modelo con los datos de entrenamiento\n",
    "    predicted_label = dtc2.predict(x_test) #Predecimos el label con los datos de test\n",
    "    (acc, f1) = eval_metrics(y_test, predicted_label) #Evaluamos el modelo con las metricas\n",
    "    \n",
    "    #Ahora registramos esta informacion \n",
    "    mlflow.log_param(\"max_depth\", max_depth2) #Registramos el hiperparametro max_depth\n",
    "    mlflow.log_param(\"min_samples_split\", min_samples_split2) #Registramos el hiperparametro min_samples_split\n",
    "    mlflow.log_metric(\"acc\", acc) #Registramos la metrica de accuracy\n",
    "    mlflow.log_metric(\"f1\", f1) #Registramos la metrica f1\n",
    "    \n",
    "    print(\"Decision Tree Classifier (max_depth = %f, min_samples_split = %f):\" % (max_depth2, min_samples_split2))\n",
    "    print(\"acc2:\", acc)\n",
    "    print(\"f12:\", f1)\n",
    "    \n",
    "    tracking_url = urlparse(mlflow.get_tracking_uri()).scheme\n",
    "    \n",
    "    if tracking_url != \"file\":\n",
    "        mlflow.sklearn.log_model(dtc2, \"model2\", registered_model_name = \"model_2.pkl\")\n",
    "    else:\n",
    "        mlflow.sklearn.log_model(dtc2, \"model2\")"
   ]
  }
 ],
 "metadata": {
  "kernelspec": {
   "display_name": "base",
   "language": "python",
   "name": "python3"
  },
  "language_info": {
   "codemirror_mode": {
    "name": "ipython",
    "version": 3
   },
   "file_extension": ".py",
   "mimetype": "text/x-python",
   "name": "python",
   "nbconvert_exporter": "python",
   "pygments_lexer": "ipython3",
   "version": "3.11.7"
  }
 },
 "nbformat": 4,
 "nbformat_minor": 5
}
